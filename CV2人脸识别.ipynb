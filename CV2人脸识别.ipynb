{
 "cells": [
  {
   "cell_type": "code",
   "execution_count": 1,
   "metadata": {
    "collapsed": true,
    "scrolled": true
   },
   "outputs": [],
   "source": [
    "import cv2"
   ]
  },
  {
   "cell_type": "code",
   "execution_count": 3,
   "metadata": {},
   "outputs": [],
   "source": [
    "image = cv2.imread(r'./img.jpg',cv2.IMREAD_COLOR)\n",
    "cv2.imshow('image',image)\n",
    "cv2.waitKey(30)\n",
    "faceCascade =cv2.CascadeClassifier(r'C:\\Anaconda3\\Lib\\site-packages\\cv2\\data\\haarcascade_frontalface_default.xml')\n",
    "gray = cv2.cvtColor(image, cv2.COLOR_BGR2GRAY)\n",
    "faces =faceCascade.detectMultiScale(image)\n",
    "#faces =faceCascade.detectMultiScale(image,scaleFactor = 1.15, minNeighbors = 5, flags = cv2.CASCADE_SCALE_IMAGE, minSize = (5,5))\n",
    "#image[, scaleFactor[, minNeighbors[, flags[, minSize[, maxSize]]]]]\n",
    "format(len(faces))\n",
    "faces\n",
    "for (x, y, w, h) in faces:\n",
    "    cv2.rectangle(image, (x, y), (x+w, y+h), (0, 255, 0), 2)\n",
    "    cv2.imshow('image',image)\n",
    "cv2.waitKey(0)\n",
    "cv2.destroyAllWindows() "
   ]
  },
  {
   "cell_type": "code",
   "execution_count": 4,
   "metadata": {
    "collapsed": true
   },
   "outputs": [],
   "source": [
    "cap = cv2.VideoCapture(0)\n",
    "fourcc = cv2.VideoWriter_fourcc(*'XVID')\n",
    "# fps = cap.get(cv2.CAP_PROP_FPS)\n",
    "size = (int(cap.get(cv2.CAP_PROP_FRAME_WIDTH)), int(cap.get(cv2.CAP_PROP_FRAME_HEIGHT)))\n",
    "out = cv2.VideoWriter('camera_test.avi', fourcc,10.0, size)\n",
    "while(1):\n",
    "    # get a frame\n",
    "    ret, frame = cap.read()\n",
    "        # 横向翻转\n",
    "    frame = cv2.flip(frame, 1)\n",
    "    out.write(frame)\n",
    "    # 在图像上显示 Press Q to save and quit\n",
    "    cv2.putText(frame,\n",
    "                \"Press Q to save and quit\",\n",
    "                (10, 30), cv2.FONT_HERSHEY_SIMPLEX, 0.8,\n",
    "                (0, 255, 0), 2)\n",
    "    # show a frame\n",
    "    cv2.imshow(\"capture\", frame)\n",
    "    faceCascade =cv2.CascadeClassifier(r'C:\\Anaconda3\\Lib\\site-packages\\cv2\\data\\haarcascade_frontalface_default.xml')\n",
    "    gray = cv2.cvtColor(frame, cv2.COLOR_BGR2GRAY)\n",
    "    faces =faceCascade.detectMultiScale(frame)\n",
    "    format(len(faces))\n",
    "    faces\n",
    "    for (x, y, w, h) in faces:\n",
    "        cv2.rectangle(frame, (x, y), (x+w, y+h), (0, 255, 0), 2)\n",
    "        cv2.imshow('image',frame)\n",
    "    if cv2.waitKey(1) & 0xFF == ord('q'):\n",
    "        break\n",
    "cap.release()\n",
    "out.release()\n",
    "cv2.destroyAllWindows() "
   ]
  },
  {
   "cell_type": "code",
   "execution_count": null,
   "metadata": {
    "collapsed": true
   },
   "outputs": [],
   "source": []
  }
 ],
 "metadata": {
  "kernelspec": {
   "display_name": "Python [Root]",
   "language": "python",
   "name": "Python [Root]"
  },
  "language_info": {
   "codemirror_mode": {
    "name": "ipython",
    "version": 3
   },
   "file_extension": ".py",
   "mimetype": "text/x-python",
   "name": "python",
   "nbconvert_exporter": "python",
   "pygments_lexer": "ipython3",
   "version": "3.5.3"
  }
 },
 "nbformat": 4,
 "nbformat_minor": 2
}
